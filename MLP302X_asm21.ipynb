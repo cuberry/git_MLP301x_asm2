{
 "cells": [
  {
   "cell_type": "markdown",
   "source": [
    "# ASSIGNMENT 2\n",
    "## PART 1: MOVIE REVIEW DATASET V1.0\n",
    "\n",
    "### Overview\n",
    "Dữ liệu được cung cấp bao gồm 2 thư mục trong đó là các review bằng file txt. Dữ liệu được phân vùng sẵn trong các thư mục pos (review tích cực) và neg (review tiêu cực hay review xấu)\n",
    "Ngoài 2 kiểu review này sẽ có 1 thư mục dạng `unsup` là loại review chưa được xử lý và cần định dạng theo kiểu tích cực hay tiêu cực.\n",
    "Các file txt này được định dạng tên như sau:\n",
    "thứ tự_điểm số.\n",
    "Để chi tiết hơn tham khảo [README](aclImdb/README)\n",
    "For more detail refer to [README](aclImdb/README)"
   ],
   "metadata": {
    "collapsed": false
   },
   "id": "520974da349fffa8"
  },
  {
   "cell_type": "markdown",
   "source": [
    "### 1. Mô tả về Assigment\n",
    "Dữ liệu sẽ được load vào 4 datasets:\n",
    "   * negative_test_data: Test Data of Negative Reviews,\n",
    "   * positive_test_data: Test Data of Positive Reviews,\n",
    "   * negative_train_data: Train Data of Nagative Reviews,\n",
    "   * positive_train_data: Train Data of Positive Reviews,\n",
    "   * The unsup data is unsupervised data for apply the appropriate model,\n",
    " "
   ],
   "metadata": {
    "collapsed": false
   },
   "id": "329ba6e7a14d571c"
  },
  {
   "cell_type": "markdown",
   "source": [
    "### 2. Nhiệm vụ (Task List)\n",
    "   - [1 ] IMPORT DATA\n",
    "   - [2] FEATURING DATA\n",
    "   - [3] MODELING THE DATA BY TRAIN & TEST DATA\n",
    "   - [4] USE MODEL TO ANLYZE THE UNSUP DATA\n",
    "   - [5] CHECK THE CORRECTION OF PREDICTION MODEL"
   ],
   "metadata": {
    "collapsed": false
   },
   "id": "23913de09ca75b67"
  },
  {
   "cell_type": "code",
   "execution_count": 90,
   "outputs": [],
   "source": [
    "# Load the library\n",
    "import pandas as pd\n",
    "import matplotlib.pyplot as plt\n",
    "import numpy as np\n",
    "import seaborn as sns"
   ],
   "metadata": {
    "collapsed": false,
    "ExecuteTime": {
     "end_time": "2024-02-18T14:16:06.717399100Z",
     "start_time": "2024-02-18T14:16:06.649372800Z"
    }
   },
   "id": "c51f8d374938345d"
  },
  {
   "cell_type": "markdown",
   "source": [
    "#### 2.1. Tải dữ liệu vào DataFrame\n",
    "Bên trong thư mục, các file được định dạng `[[id]_[rating].txt]` tại đó `[id]` là `unique id` và `[rating]` là `star rating` với dải điểm số từ 1 - 10,\n",
    "Bốn (4) dataset sẽ được xử lý như sau:\n",
    "* negative_test_data: Test Data of Negative Reviews,\n",
    "* positive_test_data: Test Data of Positive Reviews,\n",
    "* negative_train_data: Train Data of Nagative Reviews,\n",
    "* positive_train_data: Train Data of Positive Reviews,\n",
    "* The unsup data is unsupervised data for apply the appropriate model\n",
    "\n",
    "Do việc load dataset quá chậm, module ***data_collector*** được tạo ra mục đích để thu thập hết số liệu trước vào các file csv\n",
    "*Note: The load() function of sklearn is failed to collect the data*"
   ],
   "metadata": {
    "collapsed": false
   },
   "id": "46a61c790f8a745e"
  },
  {
   "cell_type": "code",
   "execution_count": 91,
   "id": "initial_id",
   "metadata": {
    "collapsed": true,
    "ExecuteTime": {
     "end_time": "2024-02-18T14:16:07.995501700Z",
     "start_time": "2024-02-18T14:16:06.721364700Z"
    }
   },
   "outputs": [],
   "source": [
    "negative_train_data = pd.read_csv('neg_train_data.csv', header=None, index_col=0)\n",
    "negative_train_data.columns = ['ID', 'Rating', 'Content of Review']\n",
    "\n",
    "positive_train_data = pd.read_csv('pos_train_data.csv', header=None, index_col=0)\n",
    "positive_train_data.columns = ['ID', 'Rating', 'Content of Review']\n",
    "\n",
    "negative_test_data = pd.read_csv('neg_test_data.csv', header=None, index_col=0)\n",
    "negative_test_data.columns = ['ID', 'Rating', 'Content of Review']\n",
    "\n",
    "positive_test_data = pd.read_csv('pos_test_data.csv', header=None, index_col=0)\n",
    "positive_test_data.columns = ['ID', 'Rating', 'Content of Review']\n",
    "\n",
    "unsupervised_data = pd.read_csv('unsup_data.csv', header=None, index_col=0)\n",
    "unsupervised_data.columns = ['ID', 'Rating', 'Content of Review']"
   ]
  },
  {
   "cell_type": "markdown",
   "source": [
    "#### 2.2. Tập hợp dữ liệu và nhãn hóa (Labeled)"
   ],
   "metadata": {
    "collapsed": false
   },
   "id": "d7067a85f2e0e826"
  },
  {
   "cell_type": "code",
   "outputs": [],
   "source": [
    "sentiment_train_data = pd.concat([negative_train_data, positive_train_data])\n",
    "sentiment_test_data = pd.concat([negative_test_data, positive_test_data])"
   ],
   "metadata": {
    "collapsed": false,
    "ExecuteTime": {
     "end_time": "2024-02-18T14:16:08.010551200Z",
     "start_time": "2024-02-18T14:16:07.997550100Z"
    }
   },
   "id": "11f888785f998e28",
   "execution_count": 92
  },
  {
   "cell_type": "code",
   "outputs": [
    {
     "name": "stdout",
     "output_type": "stream",
     "text": [
      "(25000, 3)\n"
     ]
    },
    {
     "data": {
      "text/plain": "      ID  Rating                                  Content of Review\n0                                                                  \n0      0       3  Story of a man who has unnatural feelings for ...\n1  10000       4  Airport '77 starts as a brand new luxury 747 p...\n2  10001       4  This film lacked something I couldn't put my f...\n3  10002       1  Sorry everyone,,, I know this is supposed to b...\n4  10003       1  When I was little my parents took me along to ...",
      "text/html": "<div>\n<style scoped>\n    .dataframe tbody tr th:only-of-type {\n        vertical-align: middle;\n    }\n\n    .dataframe tbody tr th {\n        vertical-align: top;\n    }\n\n    .dataframe thead th {\n        text-align: right;\n    }\n</style>\n<table border=\"1\" class=\"dataframe\">\n  <thead>\n    <tr style=\"text-align: right;\">\n      <th></th>\n      <th>ID</th>\n      <th>Rating</th>\n      <th>Content of Review</th>\n    </tr>\n    <tr>\n      <th>0</th>\n      <th></th>\n      <th></th>\n      <th></th>\n    </tr>\n  </thead>\n  <tbody>\n    <tr>\n      <th>0</th>\n      <td>0</td>\n      <td>3</td>\n      <td>Story of a man who has unnatural feelings for ...</td>\n    </tr>\n    <tr>\n      <th>1</th>\n      <td>10000</td>\n      <td>4</td>\n      <td>Airport '77 starts as a brand new luxury 747 p...</td>\n    </tr>\n    <tr>\n      <th>2</th>\n      <td>10001</td>\n      <td>4</td>\n      <td>This film lacked something I couldn't put my f...</td>\n    </tr>\n    <tr>\n      <th>3</th>\n      <td>10002</td>\n      <td>1</td>\n      <td>Sorry everyone,,, I know this is supposed to b...</td>\n    </tr>\n    <tr>\n      <th>4</th>\n      <td>10003</td>\n      <td>1</td>\n      <td>When I was little my parents took me along to ...</td>\n    </tr>\n  </tbody>\n</table>\n</div>"
     },
     "execution_count": 93,
     "metadata": {},
     "output_type": "execute_result"
    }
   ],
   "source": [
    "print(sentiment_train_data.shape)\n",
    "sentiment_train_data.head()"
   ],
   "metadata": {
    "collapsed": false,
    "ExecuteTime": {
     "end_time": "2024-02-18T14:16:08.030915900Z",
     "start_time": "2024-02-18T14:16:08.017830900Z"
    }
   },
   "id": "a60c99cfc15b55ec",
   "execution_count": 93
  },
  {
   "cell_type": "code",
   "outputs": [
    {
     "name": "stdout",
     "output_type": "stream",
     "text": [
      "(25000, 3)\n"
     ]
    },
    {
     "data": {
      "text/plain": "      ID  Rating                                  Content of Review\n0                                                                  \n0      0       2  Once again Mr. Costner has dragged out a movie...\n1  10000       4  This is an example of why the majority of acti...\n2  10001       1  First of all I hate those moronic rappers, who...\n3  10002       3  Not even the Beatles could write songs everyon...\n4  10003       3  Brass pictures (movies is not a fitting word f...\n5  10004       2  A funny thing happened to me while watching \"M...\n6  10005       2  This German horror film has to be one of the w...\n7  10006       2  Being a long-time fan of Japanese film, I expe...\n8  10007       4  \"Tokyo Eyes\" tells of a 17 year old Japanese g...\n9  10008       4  Wealthy horse ranchers in Buenos Aires have a ...",
      "text/html": "<div>\n<style scoped>\n    .dataframe tbody tr th:only-of-type {\n        vertical-align: middle;\n    }\n\n    .dataframe tbody tr th {\n        vertical-align: top;\n    }\n\n    .dataframe thead th {\n        text-align: right;\n    }\n</style>\n<table border=\"1\" class=\"dataframe\">\n  <thead>\n    <tr style=\"text-align: right;\">\n      <th></th>\n      <th>ID</th>\n      <th>Rating</th>\n      <th>Content of Review</th>\n    </tr>\n    <tr>\n      <th>0</th>\n      <th></th>\n      <th></th>\n      <th></th>\n    </tr>\n  </thead>\n  <tbody>\n    <tr>\n      <th>0</th>\n      <td>0</td>\n      <td>2</td>\n      <td>Once again Mr. Costner has dragged out a movie...</td>\n    </tr>\n    <tr>\n      <th>1</th>\n      <td>10000</td>\n      <td>4</td>\n      <td>This is an example of why the majority of acti...</td>\n    </tr>\n    <tr>\n      <th>2</th>\n      <td>10001</td>\n      <td>1</td>\n      <td>First of all I hate those moronic rappers, who...</td>\n    </tr>\n    <tr>\n      <th>3</th>\n      <td>10002</td>\n      <td>3</td>\n      <td>Not even the Beatles could write songs everyon...</td>\n    </tr>\n    <tr>\n      <th>4</th>\n      <td>10003</td>\n      <td>3</td>\n      <td>Brass pictures (movies is not a fitting word f...</td>\n    </tr>\n    <tr>\n      <th>5</th>\n      <td>10004</td>\n      <td>2</td>\n      <td>A funny thing happened to me while watching \"M...</td>\n    </tr>\n    <tr>\n      <th>6</th>\n      <td>10005</td>\n      <td>2</td>\n      <td>This German horror film has to be one of the w...</td>\n    </tr>\n    <tr>\n      <th>7</th>\n      <td>10006</td>\n      <td>2</td>\n      <td>Being a long-time fan of Japanese film, I expe...</td>\n    </tr>\n    <tr>\n      <th>8</th>\n      <td>10007</td>\n      <td>4</td>\n      <td>\"Tokyo Eyes\" tells of a 17 year old Japanese g...</td>\n    </tr>\n    <tr>\n      <th>9</th>\n      <td>10008</td>\n      <td>4</td>\n      <td>Wealthy horse ranchers in Buenos Aires have a ...</td>\n    </tr>\n  </tbody>\n</table>\n</div>"
     },
     "execution_count": 94,
     "metadata": {},
     "output_type": "execute_result"
    }
   ],
   "source": [
    "print(sentiment_test_data.shape)\n",
    "sentiment_test_data.head(10)"
   ],
   "metadata": {
    "collapsed": false,
    "ExecuteTime": {
     "end_time": "2024-02-18T14:16:08.043873700Z",
     "start_time": "2024-02-18T14:16:08.027831500Z"
    }
   },
   "id": "8781912c636b6750",
   "execution_count": 94
  },
  {
   "cell_type": "markdown",
   "source": [
    "##### Check info của `upsup` data. Những dữ liệu này đã được labeled"
   ],
   "metadata": {
    "collapsed": false
   },
   "id": "c395fe1b8f36c6b6"
  },
  {
   "cell_type": "code",
   "execution_count": 95,
   "outputs": [
    {
     "name": "stdout",
     "output_type": "stream",
     "text": [
      "<class 'pandas.core.frame.DataFrame'>\n",
      "Int64Index: 50000 entries, 0 to 49999\n",
      "Data columns (total 3 columns):\n",
      " #   Column             Non-Null Count  Dtype \n",
      "---  ------             --------------  ----- \n",
      " 0   ID                 50000 non-null  int64 \n",
      " 1   Rating             50000 non-null  int64 \n",
      " 2   Content of Review  50000 non-null  object\n",
      "dtypes: int64(2), object(1)\n",
      "memory usage: 1.5+ MB\n",
      "None\n"
     ]
    },
    {
     "data": {
      "text/plain": "      ID  Rating                                  Content of Review\n0                                                                  \n0      0       0  I admit, the great majority of films released ...\n1  10000       0  Take a low budget, inexperienced actors doubli...\n2  10001       0  Everybody has seen 'Back To The Future,' right...\n3  10002       0  Doris Day was an icon of beauty in singing and...\n4  10003       0  After a series of silly, fun-loving movies, 19...",
      "text/html": "<div>\n<style scoped>\n    .dataframe tbody tr th:only-of-type {\n        vertical-align: middle;\n    }\n\n    .dataframe tbody tr th {\n        vertical-align: top;\n    }\n\n    .dataframe thead th {\n        text-align: right;\n    }\n</style>\n<table border=\"1\" class=\"dataframe\">\n  <thead>\n    <tr style=\"text-align: right;\">\n      <th></th>\n      <th>ID</th>\n      <th>Rating</th>\n      <th>Content of Review</th>\n    </tr>\n    <tr>\n      <th>0</th>\n      <th></th>\n      <th></th>\n      <th></th>\n    </tr>\n  </thead>\n  <tbody>\n    <tr>\n      <th>0</th>\n      <td>0</td>\n      <td>0</td>\n      <td>I admit, the great majority of films released ...</td>\n    </tr>\n    <tr>\n      <th>1</th>\n      <td>10000</td>\n      <td>0</td>\n      <td>Take a low budget, inexperienced actors doubli...</td>\n    </tr>\n    <tr>\n      <th>2</th>\n      <td>10001</td>\n      <td>0</td>\n      <td>Everybody has seen 'Back To The Future,' right...</td>\n    </tr>\n    <tr>\n      <th>3</th>\n      <td>10002</td>\n      <td>0</td>\n      <td>Doris Day was an icon of beauty in singing and...</td>\n    </tr>\n    <tr>\n      <th>4</th>\n      <td>10003</td>\n      <td>0</td>\n      <td>After a series of silly, fun-loving movies, 19...</td>\n    </tr>\n  </tbody>\n</table>\n</div>"
     },
     "execution_count": 95,
     "metadata": {},
     "output_type": "execute_result"
    }
   ],
   "source": [
    "print(unsupervised_data.info())\n",
    "unsupervised_data.head()"
   ],
   "metadata": {
    "collapsed": false,
    "ExecuteTime": {
     "end_time": "2024-02-18T14:16:08.119904800Z",
     "start_time": "2024-02-18T14:16:08.042875900Z"
    }
   },
   "id": "ab6b1a7ed55a8969"
  },
  {
   "cell_type": "markdown",
   "source": [
    "#### 2.3. Tiền xử lý dữ liệu (Pre-progresssing Data)\n",
    "Sau khi chạy thử các mô hình CountVectorizer và TfIdf cho dữ liệu thô kết quả cho độ chính xác như sau:\n",
    "CountVectorizer: 68%\n",
    "Tfiđf: 59%\n",
    "Cả hai độ chính xác này đều không đạt tiêu chuẩn cần thiết theo yêu cầu đề bài, do đó việc chuẩn hóa lại dữ liệu là cần thiết (tiền xử lý dữ liệu lại)"
   ],
   "metadata": {
    "collapsed": false
   },
   "id": "c4e652af93c7a01f"
  },
  {
   "cell_type": "code",
   "outputs": [
    {
     "name": "stderr",
     "output_type": "stream",
     "text": [
      "[nltk_data] Downloading package stopwords to\n",
      "[nltk_data]     C:\\Users\\Vutua\\AppData\\Roaming\\nltk_data...\n",
      "[nltk_data]   Package stopwords is already up-to-date!\n",
      "[nltk_data] Downloading package wordnet to\n",
      "[nltk_data]     C:\\Users\\Vutua\\AppData\\Roaming\\nltk_data...\n",
      "[nltk_data]   Package wordnet is already up-to-date!\n"
     ]
    },
    {
     "data": {
      "text/plain": "True"
     },
     "execution_count": 96,
     "metadata": {},
     "output_type": "execute_result"
    }
   ],
   "source": [
    "import nltk\n",
    "nltk.download('stopwords')\n",
    "nltk.download('wordnet')"
   ],
   "metadata": {
    "collapsed": false,
    "ExecuteTime": {
     "end_time": "2024-02-18T14:16:08.153904800Z",
     "start_time": "2024-02-18T14:16:08.075830600Z"
    }
   },
   "id": "2aecf2f8ec54c017",
   "execution_count": 96
  },
  {
   "cell_type": "markdown",
   "source": [
    "Tiền xử lý văn bản gồm các thao tác:\n",
    "* Chuyển hết về ký tự dạng thấp\n",
    "* Gỡ bỏ các stop word\n",
    "* Xử lý một số dấu ký tự đặc biệt"
   ],
   "metadata": {
    "collapsed": false
   },
   "id": "15e5e0a12e2071af"
  },
  {
   "cell_type": "code",
   "outputs": [
    {
     "name": "stdout",
     "output_type": "stream",
     "text": [
      "When I was little my parents took me along to the theater to see Interiors. It was one of many movies I watched with my parents, but this was the only one we walked out of. Since then I had never seen Interiors until just recently, and I could have lived out the rest of my life without it. What a pretentious, ponderous, and painfully boring piece of 70's wine and cheese tripe. Woody Allen is one of my favorite directors but Interiors is by far the worst piece of crap of his career. In the unmistakable style of Ingmar Berman, Allen gives us a dark, angular, muted, insight in to the lives of a family wrought by the psychological damage caused by divorce, estrangement, career, love, non-love, halitosis, whatever. The film, intentionally, has no comic relief, no music, and is drenched in shadowy pathos. This film style can be best defined as expressionist in nature, using an improvisational method of dialogue to illicit a \"more pronounced depth of meaning and truth\". But Woody Allen is no Ingmar Bergman. The film is painfully slow and dull. But beyond that, I simply had no connection with or sympathy for any of the characters. Instead I felt only contempt for this parade of shuffling, whining, nicotine stained, martyrs in a perpetual quest for identity. Amid a backdrop of cosmopolitan affluence and baked Brie intelligentsia the story looms like a fart in the room. Everyone speaks in affected platitudes and elevated language between cigarettes. Everyone is \"lost\" and \"struggling\", desperate to find direction or understanding or whatever and it just goes on and on to the point where you just want to slap all of them. It's never about resolution, it's only about interminable introspective babble. It is nothing more than a psychological drama taken to an extreme beyond the audience's ability to connect. Woody Allen chose to make characters so immersed in themselves we feel left out. And for that reason I found this movie painfully self indulgent and spiritually draining. I see what he was going for but his insistence on promoting his message through Prozac prose and distorted film techniques jettisons it past the point of relevance. I highly recommend this one if you're feeling a little too happy and need something to remind you of death. Otherwise, let's just pretend this film never happened.\n",
      "when i was little my parents took me along to the theater to see interiors  it was one of many movies i watched with my parents  but this was the only one we walked out of  since then i had never seen interiors until just recently  and i could have lived out the rest of my life without it  what a pretentious  ponderous  and painfully boring piece of 70s wine and cheese tripe  woody allen is one of my favorite directors but interiors is by far the worst piece of crap of his career  in the unmistakable style of ingmar berman  allen gives us a dark  angular  muted  insight in to the lives of a family wrought by the psychological damage caused by divorce  estrangement  career  love  non love  halitosis  whatever  the film  intentionally  has no comic relief  no music  and is drenched in shadowy pathos  this film style can be best defined as expressionist in nature  using an improvisational method of dialogue to illicit a more pronounced depth of meaning and truth  but woody allen is no ingmar bergman  the film is painfully slow and dull  but beyond that  i simply had no connection with or sympathy for any of the characters  instead i felt only contempt for this parade of shuffling  whining  nicotine stained  martyrs in a perpetual quest for identity  amid a backdrop of cosmopolitan affluence and baked brie intelligentsia the story looms like a fart in the room  everyone speaks in affected platitudes and elevated language between cigarettes  everyone is lost and struggling  desperate to find direction or understanding or whatever and it just goes on and on to the point where you just want to slap all of them  its never about resolution  its only about interminable introspective babble  it is nothing more than a psychological drama taken to an extreme beyond the audiences ability to connect  woody allen chose to make characters so immersed in themselves we feel left out  and for that reason i found this movie painfully self indulgent and spiritually draining  i see what he was going for but his insistence on promoting his message through prozac prose and distorted film techniques jettisons it past the point of relevance  i highly recommend this one if youre feeling a little too happy and need something to remind you of death  otherwise  lets just pretend this film never happened \n"
     ]
    }
   ],
   "source": [
    "import re\n",
    "from nltk.tokenize import word_tokenize\n",
    "\n",
    "def preprocessed_text(text):\n",
    "    \"\"\"\n",
    "    Preprocess the input as text, clean all Html tags and others, lower text and remove punctuation\n",
    "    :param text: \n",
    "    :return: the clean text\n",
    "    \"\"\"\n",
    "    \n",
    "    # remove HTML tags\n",
    "    text = re.sub(r'<.*?>', '', text)\n",
    "    text = re.sub(r\"'\", '', text)\n",
    "    text = re.sub(r'\\\\', '', text)\n",
    "    text = re.sub(r'\"', '', text)\n",
    "    \n",
    "    pattern = '!\"\\'#$%&()*+,-./:;<=>?@[\\\\]^_`{|}~\\t\\n~``'\n",
    "    # text = re.sub(pattern, '', text)\n",
    "    \n",
    "    text = text.strip().lower()\n",
    "    \n",
    "    # Tách từ\n",
    "    # text_tokenized = word_tokenize(text)\n",
    "    \n",
    "    # filter_text = [word for word in text_tokenized if word not in pattern]\n",
    "    # return ' '.join(filter_text)\n",
    "    translate_dict = dict((c, \" \") for c in pattern)\n",
    "    translate_map = str.maketrans(translate_dict)\n",
    "    text = text.translate(translate_map)\n",
    "    return text\n",
    "    \n",
    "# Example\n",
    "txt1 = sentiment_train_data['Content of Review'].values[4]\n",
    "print(txt1)\n",
    "print(preprocessed_text(txt1))"
   ],
   "metadata": {
    "collapsed": false,
    "ExecuteTime": {
     "end_time": "2024-02-18T14:39:22.907888700Z",
     "start_time": "2024-02-18T14:39:22.895886900Z"
    }
   },
   "id": "6da6d71aa55e49c4",
   "execution_count": 116
  },
  {
   "cell_type": "markdown",
   "source": [
    "##### Chuẩn hóa lại dữ liệu"
   ],
   "metadata": {
    "collapsed": false
   },
   "id": "bdbca2c221e654b3"
  },
  {
   "cell_type": "code",
   "outputs": [],
   "source": [
    "sentiment_train_data['Preprocessed Data'] = sentiment_train_data['Content of Review'].map(preprocessed_text)\n",
    "sentiment_test_data['Preprocessed Data'] = sentiment_test_data['Content of Review'].map(preprocessed_text)"
   ],
   "metadata": {
    "collapsed": false,
    "ExecuteTime": {
     "end_time": "2024-02-18T14:39:28.013562600Z",
     "start_time": "2024-02-18T14:39:26.723239100Z"
    }
   },
   "id": "86947d65a23569a8",
   "execution_count": 117
  },
  {
   "cell_type": "code",
   "outputs": [
    {
     "name": "stdout",
     "output_type": "stream",
     "text": [
      "(25000, 4)\n"
     ]
    },
    {
     "data": {
      "text/plain": "0\n0    story of a man who has unnatural feelings for ...\n1    airport 77 starts as a brand new luxury 747 pl...\n2    this film lacked something i couldnt put my fi...\n3    sorry everyone    i know this is supposed to b...\n4    when i was little my parents took me along to ...\nName: Preprocessed Data, dtype: object"
     },
     "execution_count": 118,
     "metadata": {},
     "output_type": "execute_result"
    }
   ],
   "source": [
    "print(sentiment_test_data.shape)\n",
    "sentiment_train_data['Preprocessed Data'][:5]"
   ],
   "metadata": {
    "collapsed": false,
    "ExecuteTime": {
     "end_time": "2024-02-18T14:39:30.720441200Z",
     "start_time": "2024-02-18T14:39:30.712363900Z"
    }
   },
   "id": "fbaecd2ff4dba1b9",
   "execution_count": 118
  },
  {
   "cell_type": "markdown",
   "source": [
    "### 3. Đặc trưng hóa dữ liệu (Featuring the data)\n",
    "Nội dung Content of Review sẽ được vector hóa phục vụ cho việc xây dựng model\n",
    "Để huấn luyện mô hình, áp dụng thử hai loại chuẩn hóa là CountVectorizer và Tf-idf để đánh giá sai số   "
   ],
   "metadata": {
    "collapsed": false
   },
   "id": "73a5ee96b5d853db"
  },
  {
   "cell_type": "markdown",
   "source": [
    "#### 3.1 Chuyển đổi Vector sử dụng CountVectorizer"
   ],
   "metadata": {
    "collapsed": false
   },
   "id": "b175aae70a1c5ef7"
  },
  {
   "cell_type": "code",
   "execution_count": 150,
   "outputs": [],
   "source": [
    "from sklearn.feature_extraction.text import CountVectorizer\n",
    "vectorizer = CountVectorizer(stop_words='english', preprocessor=preprocessed_text)\n",
    "\n",
    "# Tập huấn luyện - chú ý dữ liệu đầu vào cần để 1 mảng hoặc tách bằng tham số word_tokenize\n",
    "Xtrain = vectorizer.fit_transform(sentiment_train_data['Content of Review'])\n",
    "ytrain = sentiment_train_data['Rating'].astype(int).values\n",
    "\n",
    "Xtest = vectorizer.transform(sentiment_test_data['Content of Review'])\n",
    "ytest = sentiment_test_data['Rating'].astype(int).values"
   ],
   "metadata": {
    "collapsed": false,
    "ExecuteTime": {
     "end_time": "2024-02-19T02:34:42.006720200Z",
     "start_time": "2024-02-19T02:34:35.393153600Z"
    }
   },
   "id": "3973fda99cd58854"
  },
  {
   "cell_type": "markdown",
   "source": [
    "#### 3.2 Chuyển đổi Vector sử dụng Tf-idf"
   ],
   "metadata": {
    "collapsed": false
   },
   "id": "cc0345d40b087e37"
  },
  {
   "cell_type": "code",
   "outputs": [],
   "source": [
    "from sklearn.feature_extraction.text import TfidfVectorizer\n",
    "tfidf_vectorizer = TfidfVectorizer(stop_words='english', preprocessor=preprocessed_text)\n",
    "\n",
    "Xtrain_tfidf = tfidf_vectorizer.fit_transform(sentiment_train_data['Preprocessed Data'])\n",
    "Xtest_tfidf = tfidf_vectorizer.transform(sentiment_test_data['Preprocessed Data'])"
   ],
   "metadata": {
    "collapsed": false,
    "ExecuteTime": {
     "end_time": "2024-02-18T14:44:40.860927800Z",
     "start_time": "2024-02-18T14:44:34.868317700Z"
    }
   },
   "id": "84b732ce8038342e",
   "execution_count": 126
  },
  {
   "cell_type": "markdown",
   "source": [
    "### 4. Áp dụng Logistics Regression cho việc dự đoán và tìm sai số"
   ],
   "metadata": {
    "collapsed": false
   },
   "id": "faf6c3da125f3f9c"
  },
  {
   "cell_type": "markdown",
   "source": [
    "##### Sử dụng mô hình SVC với bước 1 cho dữ liệu của CountVectorizer"
   ],
   "metadata": {
    "collapsed": false
   },
   "id": "53ab1f841a815b1"
  },
  {
   "cell_type": "code",
   "outputs": [],
   "source": [
    "from sklearn.svm import LinearSVC\n",
    "\n",
    "lrSVC_model = LinearSVC(max_iter=5000).fit(Xtrain, ytrain)"
   ],
   "metadata": {
    "collapsed": false,
    "ExecuteTime": {
     "end_time": "2024-02-19T02:39:24.088903Z",
     "start_time": "2024-02-19T02:37:47.733817400Z"
    }
   },
   "id": "8fd4251c9ee9e0f",
   "execution_count": 151
  },
  {
   "cell_type": "markdown",
   "source": [
    "##### Thử nghiệm dự đoán và sai số với CountVectorizer"
   ],
   "metadata": {
    "collapsed": false
   },
   "id": "c34f755cb785077"
  },
  {
   "cell_type": "code",
   "outputs": [
    {
     "data": {
      "text/plain": "0.3204"
     },
     "execution_count": 152,
     "metadata": {},
     "output_type": "execute_result"
    }
   ],
   "source": [
    "ypred_cr = lrSVC_model.predict(Xtest)\n",
    "\n",
    "from sklearn.metrics import accuracy_score\n",
    "accuracy_score(ytest, ypred_cr)"
   ],
   "metadata": {
    "collapsed": false,
    "ExecuteTime": {
     "end_time": "2024-02-19T02:39:40.214646100Z",
     "start_time": "2024-02-19T02:39:40.147964200Z"
    }
   },
   "id": "65623aa07d5e35ca",
   "execution_count": 152
  },
  {
   "cell_type": "markdown",
   "source": [
    "##### Thử nghiệm dự đoán và sai số với bước 2 dùng tf-idf"
   ],
   "metadata": {
    "collapsed": false
   },
   "id": "bb5882729795bab9"
  },
  {
   "cell_type": "code",
   "outputs": [
    {
     "data": {
      "text/plain": "0.37196"
     },
     "execution_count": 153,
     "metadata": {},
     "output_type": "execute_result"
    }
   ],
   "source": [
    "lrSVC_tfidf = LinearSVC(max_iter=5000).fit(Xtrain_tfidf, ytrain)\n",
    "ypred_tfidf = lrSVC_tfidf.predict(Xtest_tfidf)\n",
    "accuracy_score(ytest, ypred_tfidf)"
   ],
   "metadata": {
    "collapsed": false,
    "ExecuteTime": {
     "end_time": "2024-02-19T02:39:47.042433600Z",
     "start_time": "2024-02-19T02:39:44.226514600Z"
    }
   },
   "id": "a6c5c87357ab3e26",
   "execution_count": 153
  },
  {
   "cell_type": "markdown",
   "source": [
    "#### *KẾT LUẬN*\n",
    "Đối với dự đoán kết quả rating sử dụng phương án hồi quy cho kết quả độ chính xác rất thấp với \n",
    "**CountVectorizer**: 32% và **Tf-Idf**: 37%"
   ],
   "metadata": {
    "collapsed": false
   },
   "id": "c1def6101b65351b"
  },
  {
   "cell_type": "markdown",
   "source": [
    "### 5. Trường hợp chỉ chuẩn đoán tích cực hay tiêu cực\n",
    "Nếu coi pos là 1 và neg là 0. Tạo một bảng dữ liệu khác với 2 cột là Content of Review như features và label sẽ là 0 hoặc 1.\n",
    "Với phần này sử dụng tên với tag *`r_`* để thực hiện: `rt - train data, rs - test data` nhằm không bị lẫn với phần 4"
   ],
   "metadata": {
    "collapsed": false
   },
   "id": "a8acceac7a5d9d0b"
  },
  {
   "cell_type": "markdown",
   "source": [
    "#### 5.1 Tạo các database của train và test"
   ],
   "metadata": {
    "collapsed": false
   },
   "id": "44f4d6cb0fdfcaef"
  },
  {
   "cell_type": "code",
   "outputs": [
    {
     "data": {
      "text/plain": "                                       Content of Review  rating\n12490  The most hillarious and funny Brooks movie I e...       1\n12491  \"Life stinks\" is a parody of life and death, h...       1\n12492  This is the kind of film you want to see with ...       1\n12493  I have not read the other comments on the film...       1\n12494  Life Stinks (1991) was a step below Mel Brooks...       1\n...                                                  ...     ...\n12595  I remember watching this film in the eighties ...       0\n12596  This is probably the first entry in the \"Lance...       0\n12597  I am an actor,producer, director and what i am...       0\n12598  German filmmaker Ulli Lommel has managed a tas...       0\n12599  The plot of 'Edison' was decent, but one actor...       0\n\n[110 rows x 2 columns]",
      "text/html": "<div>\n<style scoped>\n    .dataframe tbody tr th:only-of-type {\n        vertical-align: middle;\n    }\n\n    .dataframe tbody tr th {\n        vertical-align: top;\n    }\n\n    .dataframe thead th {\n        text-align: right;\n    }\n</style>\n<table border=\"1\" class=\"dataframe\">\n  <thead>\n    <tr style=\"text-align: right;\">\n      <th></th>\n      <th>Content of Review</th>\n      <th>rating</th>\n    </tr>\n  </thead>\n  <tbody>\n    <tr>\n      <th>12490</th>\n      <td>The most hillarious and funny Brooks movie I e...</td>\n      <td>1</td>\n    </tr>\n    <tr>\n      <th>12491</th>\n      <td>\"Life stinks\" is a parody of life and death, h...</td>\n      <td>1</td>\n    </tr>\n    <tr>\n      <th>12492</th>\n      <td>This is the kind of film you want to see with ...</td>\n      <td>1</td>\n    </tr>\n    <tr>\n      <th>12493</th>\n      <td>I have not read the other comments on the film...</td>\n      <td>1</td>\n    </tr>\n    <tr>\n      <th>12494</th>\n      <td>Life Stinks (1991) was a step below Mel Brooks...</td>\n      <td>1</td>\n    </tr>\n    <tr>\n      <th>...</th>\n      <td>...</td>\n      <td>...</td>\n    </tr>\n    <tr>\n      <th>12595</th>\n      <td>I remember watching this film in the eighties ...</td>\n      <td>0</td>\n    </tr>\n    <tr>\n      <th>12596</th>\n      <td>This is probably the first entry in the \"Lance...</td>\n      <td>0</td>\n    </tr>\n    <tr>\n      <th>12597</th>\n      <td>I am an actor,producer, director and what i am...</td>\n      <td>0</td>\n    </tr>\n    <tr>\n      <th>12598</th>\n      <td>German filmmaker Ulli Lommel has managed a tas...</td>\n      <td>0</td>\n    </tr>\n    <tr>\n      <th>12599</th>\n      <td>The plot of 'Edison' was decent, but one actor...</td>\n      <td>0</td>\n    </tr>\n  </tbody>\n</table>\n<p>110 rows × 2 columns</p>\n</div>"
     },
     "execution_count": 144,
     "metadata": {},
     "output_type": "execute_result"
    }
   ],
   "source": [
    "# Create dataframe of train\n",
    "rt_positive_frame = pd.DataFrame({'Content of Review': positive_train_data['Content of Review'], 'rating': [1 for _ in range(len(positive_train_data['Content of Review']))]})\n",
    "rt_negative_frame = pd.DataFrame({'Content of Review': negative_train_data['Content of Review'], 'rating': [0 for _ in range(len(negative_train_data['Content of Review']))]})\n",
    "\n",
    "r_sensitive_train_df = pd.concat([rt_positive_frame, rt_negative_frame]).reset_index(drop=True)\n",
    "r_sensitive_train_df[12490:12600]"
   ],
   "metadata": {
    "collapsed": false,
    "ExecuteTime": {
     "end_time": "2024-02-19T02:20:31.759328500Z",
     "start_time": "2024-02-19T02:20:31.718093100Z"
    }
   },
   "id": "425fabdef1e04f61",
   "execution_count": 144
  },
  {
   "cell_type": "code",
   "outputs": [
    {
     "data": {
      "text/plain": "                                       Content of Review  rating\n12490  if you watch this at home on DVD or Bluray! be...       1\n12491  I'm not a sports fan - but I love sports flics...       1\n12492  As you know \"The Greatest Game Ever Played\" is...       1\n12493  This movie gives golf a high mark, it was well...       1\n12494  Wow, here is another great golf movie. That's ...       1\n...                                                  ...     ...\n12595  Tyra Banks needs to teach these girls that it'...       0\n12596  This is by far the most vapid, idiotic, insane...       0\n12597  It was awful plain and simple. What was their ...       0\n12598  Wow! i think they made this movie to torture p...       0\n12599  This movie could very well have been a propaga...       0\n\n[110 rows x 2 columns]",
      "text/html": "<div>\n<style scoped>\n    .dataframe tbody tr th:only-of-type {\n        vertical-align: middle;\n    }\n\n    .dataframe tbody tr th {\n        vertical-align: top;\n    }\n\n    .dataframe thead th {\n        text-align: right;\n    }\n</style>\n<table border=\"1\" class=\"dataframe\">\n  <thead>\n    <tr style=\"text-align: right;\">\n      <th></th>\n      <th>Content of Review</th>\n      <th>rating</th>\n    </tr>\n  </thead>\n  <tbody>\n    <tr>\n      <th>12490</th>\n      <td>if you watch this at home on DVD or Bluray! be...</td>\n      <td>1</td>\n    </tr>\n    <tr>\n      <th>12491</th>\n      <td>I'm not a sports fan - but I love sports flics...</td>\n      <td>1</td>\n    </tr>\n    <tr>\n      <th>12492</th>\n      <td>As you know \"The Greatest Game Ever Played\" is...</td>\n      <td>1</td>\n    </tr>\n    <tr>\n      <th>12493</th>\n      <td>This movie gives golf a high mark, it was well...</td>\n      <td>1</td>\n    </tr>\n    <tr>\n      <th>12494</th>\n      <td>Wow, here is another great golf movie. That's ...</td>\n      <td>1</td>\n    </tr>\n    <tr>\n      <th>...</th>\n      <td>...</td>\n      <td>...</td>\n    </tr>\n    <tr>\n      <th>12595</th>\n      <td>Tyra Banks needs to teach these girls that it'...</td>\n      <td>0</td>\n    </tr>\n    <tr>\n      <th>12596</th>\n      <td>This is by far the most vapid, idiotic, insane...</td>\n      <td>0</td>\n    </tr>\n    <tr>\n      <th>12597</th>\n      <td>It was awful plain and simple. What was their ...</td>\n      <td>0</td>\n    </tr>\n    <tr>\n      <th>12598</th>\n      <td>Wow! i think they made this movie to torture p...</td>\n      <td>0</td>\n    </tr>\n    <tr>\n      <th>12599</th>\n      <td>This movie could very well have been a propaga...</td>\n      <td>0</td>\n    </tr>\n  </tbody>\n</table>\n<p>110 rows × 2 columns</p>\n</div>"
     },
     "execution_count": 145,
     "metadata": {},
     "output_type": "execute_result"
    }
   ],
   "source": [
    "# Create dataframe of test\n",
    "rs_positive_frame = pd.DataFrame({'Content of Review': positive_test_data['Content of Review'], 'rating': [1 for _ in range(len(positive_test_data['Content of Review']))]})\n",
    "rs_negative_frame = pd.DataFrame({'Content of Review': negative_test_data['Content of Review'], 'rating': [0 for _ in range(len(negative_test_data['Content of Review']))]})\n",
    "\n",
    "r_sensitive_test_df = pd.concat([rs_positive_frame, rs_negative_frame]).reset_index(drop=True)\n",
    "r_sensitive_test_df[12490:12600]"
   ],
   "metadata": {
    "collapsed": false,
    "ExecuteTime": {
     "end_time": "2024-02-19T02:22:17.531938900Z",
     "start_time": "2024-02-19T02:22:17.495901Z"
    }
   },
   "id": "9a6bd37ca1d7960",
   "execution_count": 145
  },
  {
   "cell_type": "code",
   "outputs": [
    {
     "name": "stdout",
     "output_type": "stream",
     "text": [
      "(25000,) (25000,)\n"
     ]
    }
   ],
   "source": [
    "print(r_sensitive_train_df['Content of Review'].shape, r_sensitive_train_df['rating'].shape)"
   ],
   "metadata": {
    "collapsed": false,
    "ExecuteTime": {
     "end_time": "2024-02-19T02:46:30.106011400Z",
     "start_time": "2024-02-19T02:46:30.098599100Z"
    }
   },
   "id": "1fc89100f67a80c",
   "execution_count": 157
  },
  {
   "cell_type": "markdown",
   "source": [
    "#### 5.2 Vectorize bằng CountVectorizer và tính sai số dựa trên LinerSVC"
   ],
   "metadata": {
    "collapsed": false
   },
   "id": "f77e2cda828367bf"
  },
  {
   "cell_type": "code",
   "outputs": [],
   "source": [
    "r_vectorizer = CountVectorizer(stop_words='english', preprocessor=preprocessed_text)\n",
    "\n",
    "r_Xtrain = r_vectorizer.fit_transform(r_sensitive_train_df['Content of Review'])\n",
    "r_ytrain = r_sensitive_train_df['rating'].astype(int).values\n",
    "\n",
    "r_Xtest = r_vectorizer.transform(r_sensitive_test_df['Content of Review'])\n",
    "r_ytest = r_sensitive_test_df['rating'].astype(int).values"
   ],
   "metadata": {
    "collapsed": false,
    "ExecuteTime": {
     "end_time": "2024-02-19T02:42:25.817387200Z",
     "start_time": "2024-02-19T02:42:19.224121900Z"
    }
   },
   "id": "703a5dc41fc74eb",
   "execution_count": 155
  },
  {
   "cell_type": "markdown",
   "source": [
    "##### Thực hiện bước 1 với CountVectorizer"
   ],
   "metadata": {
    "collapsed": false
   },
   "id": "f9b19d8c8a05f4c"
  },
  {
   "cell_type": "code",
   "outputs": [
    {
     "data": {
      "text/plain": "0.83676"
     },
     "execution_count": 159,
     "metadata": {},
     "output_type": "execute_result"
    }
   ],
   "source": [
    "r_lrSVC_model = LinearSVC(max_iter=5000).fit(r_Xtrain, r_ytrain)\n",
    "r_ypred_cr = r_lrSVC_model.predict(r_Xtest)\n",
    "\n",
    "accuracy = accuracy_score(r_ytest, r_ypred_cr)\n",
    "accuracy"
   ],
   "metadata": {
    "collapsed": false,
    "ExecuteTime": {
     "end_time": "2024-02-19T02:48:25.349381800Z",
     "start_time": "2024-02-19T02:48:21.211470100Z"
    }
   },
   "id": "f08780f354e3ae93",
   "execution_count": 159
  },
  {
   "cell_type": "markdown",
   "source": [
    "##### Thực hiện bước 2 với tf-idf"
   ],
   "metadata": {
    "collapsed": false
   },
   "id": "ad96291093d8a68"
  },
  {
   "cell_type": "code",
   "outputs": [],
   "source": [
    "r_tfidf_vectorizer = TfidfVectorizer(stop_words='english', preprocessor=preprocessed_text)\n",
    "\n",
    "r_Xtrain_tfidf = tfidf_vectorizer.fit_transform(sentiment_train_data['Preprocessed Data'])\n",
    "r_Xtest_tfidf = tfidf_vectorizer.transform(sentiment_test_data['Preprocessed Data'])"
   ],
   "metadata": {
    "collapsed": false,
    "ExecuteTime": {
     "end_time": "2024-02-19T02:50:23.005597600Z",
     "start_time": "2024-02-19T02:50:16.429565Z"
    }
   },
   "id": "3b9e9c0c56da7f46",
   "execution_count": 160
  },
  {
   "cell_type": "code",
   "outputs": [
    {
     "data": {
      "text/plain": "0.86636"
     },
     "execution_count": 162,
     "metadata": {},
     "output_type": "execute_result"
    }
   ],
   "source": [
    "r_lrSVC_model = LinearSVC(max_iter=5000).fit(r_Xtrain_tfidf, r_ytrain)\n",
    "r_ypred_tfidf = r_lrSVC_model.predict(r_Xtest_tfidf)\n",
    "\n",
    "accuracy_tfidf = accuracy_score(r_ytest, r_ypred_tfidf)\n",
    "accuracy_tfidf"
   ],
   "metadata": {
    "collapsed": false,
    "ExecuteTime": {
     "end_time": "2024-02-19T02:51:22.708099100Z",
     "start_time": "2024-02-19T02:51:22.353194300Z"
    }
   },
   "id": "8dbd7f9c04755c22",
   "execution_count": 162
  },
  {
   "cell_type": "markdown",
   "source": [
    "#### *KẾT LUẬN TRƯỜNG HỢP SAU*\n",
    "Đối với dự đoán kết quả chỉ là negative hay positive sử dụng phương án hồi quy cho kết quả độ chính xác rất khá cao với \n",
    "**CountVectorizer**: ~84% và **Tf-Idf**: ~86%"
   ],
   "metadata": {
    "collapsed": false
   },
   "id": "5e96b9ac20e59d2a"
  },
  {
   "cell_type": "markdown",
   "source": [
    "#### 6. Tính sai số sử dụng F1 Score"
   ],
   "metadata": {
    "collapsed": false
   },
   "id": "ce4f499156294a88"
  },
  {
   "cell_type": "code",
   "outputs": [
    {
     "name": "stdout",
     "output_type": "stream",
     "text": [
      "CountVectorizer:0.8349577385044687 \n",
      "TfIdf:0.867929003439143\n"
     ]
    }
   ],
   "source": [
    "from sklearn.metrics import f1_score\n",
    "\n",
    "print('CountVectorizer:{f}'.format(f=f1_score(r_ytest, r_ypred_cr)), '\\nTfIdf:{f}'.format(f=f1_score(r_ytest, r_ypred_tfidf)))"
   ],
   "metadata": {
    "collapsed": false,
    "ExecuteTime": {
     "end_time": "2024-02-19T03:04:48.854499900Z",
     "start_time": "2024-02-19T03:04:48.808388800Z"
    }
   },
   "id": "a8270c4afc041b34",
   "execution_count": 168
  },
  {
   "cell_type": "markdown",
   "source": [
    "#### Kết luận:\n",
    "Kết quả với F1 Score không có gì khác biệt với **83.4%** cho **CountVectorizer** và **87%** cho **TfIdf**"
   ],
   "metadata": {
    "collapsed": false
   },
   "id": "221534808f3bd103"
  }
 ],
 "metadata": {
  "kernelspec": {
   "display_name": "Python 3",
   "language": "python",
   "name": "python3"
  },
  "language_info": {
   "codemirror_mode": {
    "name": "ipython",
    "version": 2
   },
   "file_extension": ".py",
   "mimetype": "text/x-python",
   "name": "python",
   "nbconvert_exporter": "python",
   "pygments_lexer": "ipython2",
   "version": "2.7.6"
  }
 },
 "nbformat": 4,
 "nbformat_minor": 5
}
