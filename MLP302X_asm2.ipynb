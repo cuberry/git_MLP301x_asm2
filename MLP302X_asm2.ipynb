{
 "cells": [
  {
   "cell_type": "markdown",
   "source": [
    "# ASSIGNMENT 2\n",
    "## PART 1: MOVIE REVIEW DATASET V1.0\n",
    "\n",
    "### Overview\n",
    "Dữ liệu được cung cấp bao gồm 2 thư mục trong đó là các review bằng file txt. Dữ liệu được phân vùng sẵn trong các thư mục pos (review tích cực) và neg (review tiêu cực hay review xấu)\n",
    "Ngoài 2 kiểu review này sẽ có 1 thư mục dạng `unsup` là loại review chưa được xử lý và cần định dạng theo kiểu tích cực hay tiêu cực.\n",
    "Các file txt này được định dạng tên như sau:\n",
    "thứ tự_điểm số.\n",
    "Để chi tiết hơn tham khảo [README](aclImdb/README)\n",
    "For more detail refer to [README](aclImdb/README)"
   ],
   "metadata": {
    "collapsed": false
   },
   "id": "520974da349fffa8"
  },
  {
   "cell_type": "markdown",
   "source": [
    "### Mô tả về Assigment\n",
    "Dữ liệu sẽ được load vào 4 datasets:\n",
    "   * negative_test_data: Test Data of Negative Reviews,\n",
    "   * positive_test_data: Test Data of Positive Reviews,\n",
    "   * negative_train_data: Train Data of Nagative Reviews,\n",
    "   * positive_train_data: Train Data of Positive Reviews,\n",
    "   * The unsup data is unsupervised data for apply the appropriate model,\n",
    " Để có kết quả tốt nhất, ta sẽ áp dụng mô hình (model) để phân tích dữ liệu *UNSUP* "
   ],
   "metadata": {
    "collapsed": false
   },
   "id": "329ba6e7a14d571c"
  },
  {
   "cell_type": "markdown",
   "source": [
    "#### Nhiệm vụ (Task List)\n",
    "   - [ ] IMPORT DATA\n",
    "   - [ ] FEATURING DATA\n",
    "   - [ ] MODELING THE DATA BY TRAIN & TEST DATA\n",
    "   - [ ] USE MODEL TO ANLYZE THE UNSUP DATA\n",
    "   - [ ] CHECK THE CORRECTION OF PREDICTION MODEL"
   ],
   "metadata": {
    "collapsed": false
   },
   "id": "23913de09ca75b67"
  },
  {
   "cell_type": "code",
   "execution_count": 8,
   "outputs": [],
   "source": [
    "# Load the library\n",
    "import pandas as pd\n",
    "import matplotlib.pyplot as plt\n",
    "import numpy as np"
   ],
   "metadata": {
    "collapsed": false,
    "ExecuteTime": {
     "end_time": "2023-12-10T05:35:27.067366800Z",
     "start_time": "2023-12-10T05:35:27.060598400Z"
    }
   },
   "id": "c51f8d374938345d"
  },
  {
   "cell_type": "markdown",
   "source": [
    "#### 1.1. Loading dataset to dataframe,\n",
    "Bên trong thư mục, các file được định dạng `[[id]_[rating].txt]` tại đó `[id]` là `unique id` và `[rating]` là `star rating` với dải điểm số từ 1 - 10,\n",
    "Bốn (4) dataset sẽ được xử lý như sau:\n",
    "* negative_test_data: Test Data of Negative Reviews,\n",
    "* positive_test_data: Test Data of Positive Reviews,\n",
    "* negative_train_data: Train Data of Nagative Reviews,\n",
    "* positive_train_data: Train Data of Positive Reviews,\n",
    "* The unsup data is unsupervised data for apply the appropriate model\n",
    "\n",
    "Do việc load dataset quá chậm, module ***dataCollector*** được tạo ra mục đích để thu thật hết số liệu trước vào các file csv\n",
    "*Note: The load() function of sklearn is failed to collect the data*"
   ],
   "metadata": {
    "collapsed": false
   },
   "id": "46a61c790f8a745e"
  },
  {
   "cell_type": "code",
   "execution_count": 10,
   "id": "initial_id",
   "metadata": {
    "collapsed": true,
    "ExecuteTime": {
     "end_time": "2023-12-10T05:36:38.086728800Z",
     "start_time": "2023-12-10T05:36:36.902049500Z"
    }
   },
   "outputs": [],
   "source": [
    "negative_train_data = pd.read_csv('neg_train_data.csv', header=None, index_col=0)\n",
    "negative_train_data.columns = ['ID', 'Rating', 'Content of Review']\n",
    "\n",
    "positive_train_data = pd.read_csv('pos_train_data.csv', header=None, index_col=0)\n",
    "positive_train_data.columns = ['ID', 'Rating', 'Content of Review']\n",
    "\n",
    "negative_test_data = pd.read_csv('neg_test_data.csv', header=None, index_col=0)\n",
    "negative_test_data.columns = ['ID', 'Rating', 'Content of Review']\n",
    "\n",
    "positive_test_data = pd.read_csv('pos_test_data.csv', header=None, index_col=0)\n",
    "positive_test_data.columns = ['ID', 'Rating', 'Content of Review']\n",
    "\n",
    "unsupervised_data = pd.read_csv('unsup_data.csv', header=None, index_col=0)\n",
    "unsupervised_data.columns = ['ID', 'Rating', 'Content of Review']"
   ]
  },
  {
   "cell_type": "markdown",
   "source": [
    "Định dạng lại cột `Rating` về dạng số nguyên"
   ],
   "metadata": {
    "collapsed": false
   },
   "id": "3bb0773187dd8425"
  },
  {
   "cell_type": "code",
   "execution_count": 11,
   "outputs": [
    {
     "data": {
      "text/plain": "0\n0        0\n1        0\n2        0\n3        0\n4        0\n        ..\n49995    0\n49996    0\n49997    0\n49998    0\n49999    0\nName: Rating, Length: 50000, dtype: int32"
     },
     "execution_count": 11,
     "metadata": {},
     "output_type": "execute_result"
    }
   ],
   "source": [
    "negative_train_data['Rating'].astype(int)\n",
    "positive_train_data['Rating'].astype(int)\n",
    "negative_test_data['Rating'].astype(int)\n",
    "positive_test_data['Rating'].astype(int)\n",
    "unsupervised_data['Rating'].astype(int)"
   ],
   "metadata": {
    "collapsed": false,
    "ExecuteTime": {
     "end_time": "2023-12-10T05:39:01.170003400Z",
     "start_time": "2023-12-10T05:39:01.145307700Z"
    }
   },
   "id": "465fefdd48f4ebb5"
  },
  {
   "cell_type": "markdown",
   "source": [
    "Check info của `upsup` data"
   ],
   "metadata": {
    "collapsed": false
   },
   "id": "c395fe1b8f36c6b6"
  },
  {
   "cell_type": "code",
   "execution_count": 12,
   "outputs": [
    {
     "name": "stdout",
     "output_type": "stream",
     "text": [
      "<class 'pandas.core.frame.DataFrame'>\n",
      "Int64Index: 50000 entries, 0 to 49999\n",
      "Data columns (total 3 columns):\n",
      " #   Column             Non-Null Count  Dtype \n",
      "---  ------             --------------  ----- \n",
      " 0   ID                 50000 non-null  int64 \n",
      " 1   Rating             50000 non-null  int64 \n",
      " 2   Content of Review  50000 non-null  object\n",
      "dtypes: int64(2), object(1)\n",
      "memory usage: 1.5+ MB\n",
      "None\n"
     ]
    },
    {
     "data": {
      "text/plain": "      ID  Rating                                  Content of Review\n0                                                                  \n0      0       0  I admit, the great majority of films released ...\n1  10000       0  Take a low budget, inexperienced actors doubli...\n2  10001       0  Everybody has seen 'Back To The Future,' right...\n3  10002       0  Doris Day was an icon of beauty in singing and...\n4  10003       0  After a series of silly, fun-loving movies, 19...\n5  10004       0  This isn't exactly a musical, but it almost se...\n6  10005       0  After seven years and seventeen pictures at Wa...\n7  10006       0  In the 1950's there were many film boigraphies...\n8  10007       0  MY RATING- 7.3<br /><br />This one is a curiou...\n9  10008       0  Doris Day and James Cagney are excellent in th...",
      "text/html": "<div>\n<style scoped>\n    .dataframe tbody tr th:only-of-type {\n        vertical-align: middle;\n    }\n\n    .dataframe tbody tr th {\n        vertical-align: top;\n    }\n\n    .dataframe thead th {\n        text-align: right;\n    }\n</style>\n<table border=\"1\" class=\"dataframe\">\n  <thead>\n    <tr style=\"text-align: right;\">\n      <th></th>\n      <th>ID</th>\n      <th>Rating</th>\n      <th>Content of Review</th>\n    </tr>\n    <tr>\n      <th>0</th>\n      <th></th>\n      <th></th>\n      <th></th>\n    </tr>\n  </thead>\n  <tbody>\n    <tr>\n      <th>0</th>\n      <td>0</td>\n      <td>0</td>\n      <td>I admit, the great majority of films released ...</td>\n    </tr>\n    <tr>\n      <th>1</th>\n      <td>10000</td>\n      <td>0</td>\n      <td>Take a low budget, inexperienced actors doubli...</td>\n    </tr>\n    <tr>\n      <th>2</th>\n      <td>10001</td>\n      <td>0</td>\n      <td>Everybody has seen 'Back To The Future,' right...</td>\n    </tr>\n    <tr>\n      <th>3</th>\n      <td>10002</td>\n      <td>0</td>\n      <td>Doris Day was an icon of beauty in singing and...</td>\n    </tr>\n    <tr>\n      <th>4</th>\n      <td>10003</td>\n      <td>0</td>\n      <td>After a series of silly, fun-loving movies, 19...</td>\n    </tr>\n    <tr>\n      <th>5</th>\n      <td>10004</td>\n      <td>0</td>\n      <td>This isn't exactly a musical, but it almost se...</td>\n    </tr>\n    <tr>\n      <th>6</th>\n      <td>10005</td>\n      <td>0</td>\n      <td>After seven years and seventeen pictures at Wa...</td>\n    </tr>\n    <tr>\n      <th>7</th>\n      <td>10006</td>\n      <td>0</td>\n      <td>In the 1950's there were many film boigraphies...</td>\n    </tr>\n    <tr>\n      <th>8</th>\n      <td>10007</td>\n      <td>0</td>\n      <td>MY RATING- 7.3&lt;br /&gt;&lt;br /&gt;This one is a curiou...</td>\n    </tr>\n    <tr>\n      <th>9</th>\n      <td>10008</td>\n      <td>0</td>\n      <td>Doris Day and James Cagney are excellent in th...</td>\n    </tr>\n  </tbody>\n</table>\n</div>"
     },
     "execution_count": 12,
     "metadata": {},
     "output_type": "execute_result"
    }
   ],
   "source": [
    "print(unsupervised_data.info())\n",
    "unsupervised_data.head(10)"
   ],
   "metadata": {
    "collapsed": false,
    "ExecuteTime": {
     "end_time": "2023-12-10T05:40:20.268868500Z",
     "start_time": "2023-12-10T05:40:20.191708300Z"
    }
   },
   "id": "ab6b1a7ed55a8969"
  },
  {
   "cell_type": "code",
   "execution_count": null,
   "outputs": [],
   "source": [],
   "metadata": {
    "collapsed": false
   },
   "id": "3973fda99cd58854"
  }
 ],
 "metadata": {
  "kernelspec": {
   "display_name": "Python 3",
   "language": "python",
   "name": "python3"
  },
  "language_info": {
   "codemirror_mode": {
    "name": "ipython",
    "version": 2
   },
   "file_extension": ".py",
   "mimetype": "text/x-python",
   "name": "python",
   "nbconvert_exporter": "python",
   "pygments_lexer": "ipython2",
   "version": "2.7.6"
  }
 },
 "nbformat": 4,
 "nbformat_minor": 5
}
